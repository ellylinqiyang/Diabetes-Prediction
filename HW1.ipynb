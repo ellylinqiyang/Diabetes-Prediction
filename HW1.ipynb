{
 "cells": [
  {
   "cell_type": "markdown",
   "metadata": {},
   "source": [
    "# UChicago MSCA 32009 Health Analytics Project\n",
    "\n",
    "[Kaggle Competition](https://www.kaggle.com/c/pf2012-diabetes/): Practice Fusion Diabetes Classification\n",
    "\n",
    "Elly (Linqi) Yang"
   ]
  },
  {
   "cell_type": "code",
   "execution_count": 1,
   "metadata": {},
   "outputs": [],
   "source": [
    "import numpy as np\n",
    "import pandas as pd"
   ]
  },
  {
   "cell_type": "markdown",
   "metadata": {},
   "source": [
    "## select features to be included in model"
   ]
  },
  {
   "cell_type": "code",
   "execution_count": 2,
   "metadata": {},
   "outputs": [],
   "source": [
    "def select(df):\n",
    "    \n",
    "    # SyncTranscript data\n",
    "    Transcript = pd.read_csv('training_SyncTranscript.csv')\n",
    "    df = df.merge(Transcript.groupby(by = 'PatientGuid').size().to_frame('nTranscript'), on = 'PatientGuid', how = 'left')\n",
    "\n",
    "    TranscriptList = ['Height', 'Weight', 'BMI', 'SystolicBP', 'DiastolicBP', 'RespiratoryRate']\n",
    "    for i in TranscriptList: Transcript.loc[Transcript[i].isnull(), i] = Transcript.loc[~Transcript[i].isnull(), i].mean()\n",
    "    df = df.merge(Transcript.groupby(by = 'PatientGuid')[TranscriptList].mean(), on = 'PatientGuid', how = 'left')\n",
    "\n",
    "    TranscriptPS = list(Transcript['PhysicianSpecialty'].value_counts()[:5].index)\n",
    "    for i in TranscriptPS:\n",
    "        n = Transcript[Transcript['PhysicianSpecialty'] == i].groupby(by = 'PatientGuid').size()\n",
    "        df = df.merge(n.to_frame('nTranscriptPS'+str(TranscriptPS.index(i))), on = 'PatientGuid', how = 'left')\n",
    "    \n",
    "    # SyncSmokingStatus data & SyncPatientSmokingStatus data\n",
    "    SmokingStatus = pd.read_csv('SyncSmokingStatus.csv')\n",
    "    SmokingStatus['nCig'] = 0\n",
    "    nCigs = ['Few (1-3) cigarettes per day', 'Up to 1 pack per day', '1-2 packs per day', '2 or more packs per day']\n",
    "    for i in nCigs: SmokingStatus.loc[SmokingStatus['Description'] == i, 'nCig'] = nCigs.index(i)+1\n",
    "\n",
    "    PatientSmokingStatus = pd.read_csv('training_SyncPatientSmokingStatus.csv')\n",
    "    PatientSmokingStatus = PatientSmokingStatus.merge(SmokingStatus, on = 'SmokingStatusGuid', how = 'left')\n",
    "    df = df.merge(PatientSmokingStatus.groupby(by = 'PatientGuid').mean()['nCig'].to_frame('avgCig'), on = 'PatientGuid', how = 'left')\n",
    "    \n",
    "    # SyncLabResult data\n",
    "    LabResult = pd.read_csv('training_SyncLabResult.csv')\n",
    "    df = df.merge(LabResult.groupby(by = 'PatientGuid').size().to_frame('nLabResult'), on = 'PatientGuid', how = 'left')\n",
    "    \n",
    "    # SyncLabPanel data\n",
    "    LabPanel = pd.read_csv('training_SyncLabPanel.csv')\n",
    "    LabPanel = LabPanel.merge(LabResult[['LabResultGuid', 'PatientGuid']])\n",
    "    df = df.merge(LabPanel.groupby(by = 'PatientGuid').size().to_frame('nLabPanel'), on = 'PatientGuid', how = 'left')\n",
    "\n",
    "    LabPanelPN = list(LabPanel['PanelName'].value_counts()[:5].index)\n",
    "    for i in LabPanelPN:\n",
    "        n = LabPanel[LabPanel['PanelName'] == i].groupby(by = 'PatientGuid').size()\n",
    "        df = df.merge(n.to_frame('nLabPanelPN'+str(LabPanelPN.index(i))), on = 'PatientGuid', how = 'left')\n",
    "\n",
    "    # SyncLabObservation data\n",
    "    LabObs = pd.read_csv('training_SyncLabObservation.csv')\n",
    "    LabObs = LabObs.merge(LabPanel[['LabPanelGuid', 'PatientGuid']])\n",
    "    df = df.merge(LabObs.groupby(by = 'PatientGuid').size().to_frame('nLabObs'), on = 'PatientGuid', how = 'left')\n",
    "\n",
    "    LabObsHL = list(LabObs['HL7Text'].value_counts()[:5].index)\n",
    "    for i in LabObsHL:\n",
    "        n = LabObs[LabObs['HL7Text'] == i].groupby(by = 'PatientGuid').size()\n",
    "        df = df.merge(n.to_frame('nLabObsHL'+str(LabObsHL.index(i))), on = 'PatientGuid', how = 'left')\n",
    "    \n",
    "    # SyncDiagnosis data\n",
    "    Diagnosis = pd.read_csv('training_SyncDiagnosis.csv')\n",
    "    df = df.merge(Diagnosis.groupby(by = 'PatientGuid').size().to_frame('nDiagnosis'), on = 'PatientGuid', how = 'left')\n",
    "    df = df.merge(Diagnosis.groupby(by = 'PatientGuid').sum()['Acute'].to_frame('nAcute'), on = 'PatientGuid', how = 'left')\n",
    "\n",
    "    Diagnosis['ICD9Num'] = Diagnosis.loc[Diagnosis['ICD9Code'].str[0].str.isdigit(), 'ICD9Code'].astype(float)\n",
    "    Diagnosis['ICD9Group'] = pd.cut(Diagnosis['ICD9Num'], \n",
    "                                    [1, 140, 240, 280, 290, 320, 360, 390, 460, 520, 580, 630, 680, 710, 740, 760, 780, 800, 1000], \n",
    "                                    labels = ['icd9_' + str(i+1) for i in range(18)], \n",
    "                                    include_lowest = True)\n",
    "    Diagnosis['ICD9Group'] = Diagnosis['ICD9Group'].astype(str)\n",
    "    Diagnosis.loc[Diagnosis['ICD9Group']=='nan', 'ICD9Group'] = 'icd9_19'\n",
    "\n",
    "    Diagnosis.loc[Diagnosis['ICD9Group'] == 'icd9_3', 'ICD9Group'] = 'icd9_3.0'\n",
    "    Diagnosis['ICD9Group'] = pd.cut(Diagnosis['ICD9Num'],\n",
    "                                    [240, 249, 260, 270, 280],\n",
    "                                    labels = ['icd9_3.' + str(i+1) for i in range(4)], \n",
    "                                    include_lowest = True).astype(str).replace('nan', np.NaN).fillna(Diagnosis['ICD9Group'])\n",
    "\n",
    "    Diagnosis.loc[Diagnosis['ICD9Group'] == 'icd9_8', 'ICD9Group'] = 'icd9_8.0'\n",
    "    Diagnosis['ICD9Group'] = pd.cut(Diagnosis['ICD9Num'],\n",
    "                                    [390, 393, 401, 410, 415, 420, 430, 440, 451, 460],\n",
    "                                    labels = ['icd9_8.' + str(i+1) for i in range(9)], \n",
    "                                    include_lowest = True).astype(str).replace('nan', np.NaN).fillna(Diagnosis['ICD9Group'])\n",
    "\n",
    "    for i in Diagnosis.loc[Diagnosis['ICD9Group'] == 'icd9_3.4', 'ICD9Num'].value_counts().head(5).index: \n",
    "        Diagnosis.loc[Diagnosis['ICD9Num'] == i, 'ICD9Group'] = 'icd9_3.4_' + str(i)\n",
    "\n",
    "    for i in Diagnosis.loc[Diagnosis['ICD9Group'] == 'icd9_8.3', 'ICD9Num'].value_counts().head(2).index: \n",
    "        Diagnosis.loc[Diagnosis['ICD9Num'] == i, 'ICD9Group'] = 'icd9_8.3_' + str(i)\n",
    "\n",
    "    df = df.merge(pd.crosstab(index = Diagnosis['PatientGuid'], columns = Diagnosis['ICD9Group']), on = 'PatientGuid', how = 'left')\n",
    "    \n",
    "    # SyncMedication data\n",
    "    Medication = pd.read_csv('training_SyncMedication.csv')\n",
    "    df = df.merge(Medication.groupby(by = 'PatientGuid').size().to_frame('nMedication'), on = 'PatientGuid', how = 'left')\n",
    "\n",
    "    MedicationMN = list(Medication['MedicationName'].value_counts()[:5].index)\n",
    "    for i in MedicationMN:\n",
    "        n = Medication[Medication['MedicationName'] == i].groupby(by = 'PatientGuid').size()\n",
    "        df = df.merge(n.to_frame('nMedicationMN'+str(MedicationMN.index(i))), on = 'PatientGuid', how = 'left')\n",
    "\n",
    "    Med_Diag = pd.merge(Medication, Diagnosis, on = ['PatientGuid', 'DiagnosisGuid'])\n",
    "    Med_Diag_ct = pd.crosstab(index = Med_Diag['PatientGuid'], columns = Med_Diag['ICD9Group'])\n",
    "    Med_Diag_ct.columns = ['med_'+i for i in Med_Diag_ct.columns]\n",
    "    df = df.merge(Med_Diag_ct, on = 'PatientGuid', how = 'left')\n",
    "    \n",
    "    return(df)"
   ]
  },
  {
   "cell_type": "markdown",
   "metadata": {},
   "source": [
    "## load train data"
   ]
  },
  {
   "cell_type": "code",
   "execution_count": 3,
   "metadata": {},
   "outputs": [],
   "source": [
    "train = pd.read_csv('training_SyncPatient.csv', nrows = 6600)\n",
    "train = select(train)\n",
    "train_X = pd.get_dummies(train.drop(['PatientGuid', 'DMIndicator', 'PracticeGuid', 'State'], axis=1).fillna(0), drop_first = True)\n",
    "train_y = train['DMIndicator']"
   ]
  },
  {
   "cell_type": "markdown",
   "metadata": {},
   "source": [
    "## build random forest model"
   ]
  },
  {
   "cell_type": "code",
   "execution_count": 4,
   "metadata": {},
   "outputs": [
    {
     "data": {
      "text/plain": [
       "RandomForestClassifier(max_features=20, min_samples_leaf=20, n_estimators=4000,\n",
       "                       oob_score=True)"
      ]
     },
     "execution_count": 4,
     "metadata": {},
     "output_type": "execute_result"
    }
   ],
   "source": [
    "from sklearn.ensemble import RandomForestClassifier\n",
    "from sklearn.metrics import confusion_matrix\n",
    "np.random.seed(123)\n",
    "rf = RandomForestClassifier(n_estimators=4000, max_features=20, min_samples_leaf=20, oob_score=True)\n",
    "rf.fit(train_X, train_y)"
   ]
  },
  {
   "cell_type": "markdown",
   "metadata": {},
   "source": [
    "## fit model on test data and calculate Brier Score"
   ]
  },
  {
   "cell_type": "code",
   "execution_count": 5,
   "metadata": {},
   "outputs": [
    {
     "data": {
      "text/plain": [
       "0.1203230817263394"
      ]
     },
     "execution_count": 5,
     "metadata": {},
     "output_type": "execute_result"
    }
   ],
   "source": [
    "test = pd.read_csv('test_SyncPatient.csv')\n",
    "test = select(test.iloc[6600:9948])\n",
    "test_X = pd.get_dummies(test.drop(['PatientGuid', 'PracticeGuid', 'State'], axis=1).fillna(0), drop_first = True)\n",
    "test_y = pd.read_csv('test_SyncPatient2.csv').iloc[6600:9948]['DMIndicator']\n",
    "sum((rf.predict_proba(test_X)[:, 1] - test_y)**2)/test_y.shape[0]"
   ]
  },
  {
   "cell_type": "markdown",
   "metadata": {},
   "source": [
    "## reference\n",
    "* https://en.wikipedia.org/wiki/List_of_ICD-9_codes\n",
    "* https://en.wikipedia.org/wiki/Brier_score"
   ]
  },
  {
   "cell_type": "code",
   "execution_count": null,
   "metadata": {},
   "outputs": [],
   "source": []
  }
 ],
 "metadata": {
  "kernelspec": {
   "display_name": "Python 3",
   "language": "python",
   "name": "python3"
  },
  "language_info": {
   "codemirror_mode": {
    "name": "ipython",
    "version": 3
   },
   "file_extension": ".py",
   "mimetype": "text/x-python",
   "name": "python",
   "nbconvert_exporter": "python",
   "pygments_lexer": "ipython3",
   "version": "3.8.3"
  }
 },
 "nbformat": 4,
 "nbformat_minor": 4
}
