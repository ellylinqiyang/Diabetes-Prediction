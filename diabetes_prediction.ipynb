{
 "cells": [
  {
   "cell_type": "markdown",
   "metadata": {},
   "source": [
    "# Diabetes Prediction\n",
    "### Mar 2021\n",
    "* Instructor: Arnab Bose\n",
    "* Author: Elly Yang"
   ]
  },
  {
   "cell_type": "markdown",
   "metadata": {},
   "source": [
    "## Feature Selection"
   ]
  },
  {
   "cell_type": "code",
   "execution_count": 1,
   "metadata": {},
   "outputs": [],
   "source": [
    "import numpy as np\n",
    "import pandas as pd\n",
    "\n",
    "def select(df):\n",
    "    # join with SyncTranscript\n",
    "    ## nTranscript (number of transcripts)\n",
    "    Transcript = pd.read_csv('SyncTranscript.csv')\n",
    "    df = df.merge(Transcript.groupby(by='PatientGuid').size().to_frame('nTranscript'), on='PatientGuid', how='left')\n",
    "    ## Height, Weight, BMI, SystolicBP, DiastolicBP, RespiratoryRate\n",
    "    TranscriptList = ['Height', 'Weight', 'BMI', 'SystolicBP', 'DiastolicBP', 'RespiratoryRate']\n",
    "    for i in TranscriptList: Transcript.loc[Transcript[i].isnull(), i] = Transcript.loc[~Transcript[i].isnull(), i].mean()\n",
    "    df = df.merge(Transcript.groupby(by='PatientGuid')[TranscriptList].mean(), on='PatientGuid', how='left')\n",
    "    ## nTranscriptPS (number of top 5 frequent PhysicianSpecialty)\n",
    "    TranscriptPS = list(Transcript['PhysicianSpecialty'].value_counts()[:5].index)\n",
    "    for i in TranscriptPS:\n",
    "        n = Transcript[Transcript['PhysicianSpecialty'] == i].groupby(by='PatientGuid').size()\n",
    "        df = df.merge(n.to_frame('nTranscriptPS'+str(TranscriptPS.index(i))), on='PatientGuid', how='left')\n",
    "    \n",
    "    # join with SyncSmokingStatus\n",
    "    ## nCigs (number of cigarettes) converted from nominal to numeric\n",
    "    SmokingStatus = pd.read_csv('SyncSmokingStatus.csv')\n",
    "    SmokingStatus['nCig'] = 0\n",
    "    nCigs = ['Few (1-3) cigarettes per day', 'Up to 1 pack per day', '1-2 packs per day', '2 or more packs per day']\n",
    "    for i in nCigs: SmokingStatus.loc[SmokingStatus['Description'] == i, 'nCig'] = nCigs.index(i)+1\n",
    "\n",
    "    # join with SyncPatientSmokingStatus\n",
    "    PatientSmokingStatus = pd.read_csv('SyncPatientSmokingStatus.csv')\n",
    "    PatientSmokingStatus = PatientSmokingStatus.merge(SmokingStatus, on='SmokingStatusGuid', how='left')\n",
    "    df = df.merge(PatientSmokingStatus.groupby(by='PatientGuid').mean()['nCig'].to_frame('avgCig'), on='PatientGuid', how='left')\n",
    "    \n",
    "    # join with SyncLabResult\n",
    "    ## nLabResult (number of LabResult)\n",
    "    LabResult = pd.read_csv('SyncLabResult.csv')\n",
    "    df = df.merge(LabResult.groupby(by='PatientGuid').size().to_frame('nLabResult'), on='PatientGuid', how='left')\n",
    "    \n",
    "    # join with SyncLabPanel\n",
    "    ## nLabPanel (number of LabPanel)\n",
    "    LabPanel = pd.read_csv('SyncLabPanel.csv')\n",
    "    LabPanel = LabPanel.merge(LabResult[['LabResultGuid', 'PatientGuid']])\n",
    "    df = df.merge(LabPanel.groupby(by='PatientGuid').size().to_frame('nLabPanel'), on='PatientGuid', how='left')\n",
    "    ## nLabPanelPN (number of top 5 frequent PanelName)\n",
    "    LabPanelPN = list(LabPanel['PanelName'].value_counts()[:5].index)\n",
    "    for i in LabPanelPN:\n",
    "        n = LabPanel[LabPanel['PanelName'] == i].groupby(by='PatientGuid').size()\n",
    "        df = df.merge(n.to_frame('nLabPanelPN'+str(LabPanelPN.index(i))), on='PatientGuid', how='left')\n",
    "\n",
    "    # join with SyncLabObservation\n",
    "    ## nLabObs (number of LabObs)\n",
    "    LabObs = pd.read_csv('SyncLabObservation.csv')\n",
    "    LabObs = LabObs.merge(LabPanel[['LabPanelGuid', 'PatientGuid']])\n",
    "    df = df.merge(LabObs.groupby(by='PatientGuid').size().to_frame('nLabObs'), on='PatientGuid', how='left')\n",
    "    ## LabObsHL (number of top 5 frequent HL7Text)\n",
    "    LabObsHL = list(LabObs['HL7Text'].value_counts()[:5].index)\n",
    "    for i in LabObsHL:\n",
    "        n = LabObs[LabObs['HL7Text'] == i].groupby(by='PatientGuid').size()\n",
    "        df = df.merge(n.to_frame('nLabObsHL'+str(LabObsHL.index(i))), on='PatientGuid', how='left')\n",
    "    \n",
    "    # join with SyncDiagnosis\n",
    "    ## nAcute: number of Acute\n",
    "    Diagnosis = pd.read_csv('SyncDiagnosis.csv')\n",
    "    df = df.merge(Diagnosis.groupby(by='PatientGuid').size().to_frame('nDiagnosis'), on='PatientGuid', how='left')\n",
    "    df = df.merge(Diagnosis.groupby(by='PatientGuid').sum()['Acute'].to_frame('nAcute'), on='PatientGuid', how='left')\n",
    "    ## ICD9 codes: https://en.wikipedia.org/wiki/List_of_ICD-9_codes\n",
    "    Diagnosis['ICD9Num'] = Diagnosis.loc[Diagnosis['ICD9Code'].str[0].str.isdigit(), 'ICD9Code'].astype(float)\n",
    "    Diagnosis['ICD9Group'] = pd.cut(Diagnosis['ICD9Num'], \n",
    "                                    [1.0, 140.0, 240.0, 280.0, 290.0, 320.0, 390.0, 460.0, 520.0, 580.0, 630.0, 680.0, 710.0, 740.0, 760.0, 780.0, 800.0, 1000.0], \n",
    "                                    labels=['icd9_' + str(i+1) for i in range(17)], \n",
    "                                    include_lowest=True).astype(str)\n",
    "    Diagnosis.loc[Diagnosis['ICD9Group'].isna(), 'ICD9Group'] = 'icd9_0'\n",
    "    ## ICD9 codes 240–279: endocrine, nutritional and metabolic diseases, and immunity disorders\n",
    "    Diagnosis.loc[Diagnosis['ICD9Group'] == 'icd9_3', 'ICD9Group'] = 'icd9_3.0'\n",
    "    Diagnosis['ICD9Group'] = pd.cut(Diagnosis['ICD9Num'],\n",
    "                                    [240, 249, 260, 270, 279],\n",
    "                                    labels=['icd9_3.' + str(i+1) for i in range(4)], \n",
    "                                    include_lowest=True).astype(str).replace('nan', np.NaN).fillna(Diagnosis['ICD9Group'])\n",
    "    ## ICD9 codes 390–459: diseases of the circulatory system\n",
    "    Diagnosis.loc[Diagnosis['ICD9Group'] == 'icd9_8', 'ICD9Group'] = 'icd9_8.0'\n",
    "    Diagnosis['ICD9Group'] = pd.cut(Diagnosis['ICD9Num'],\n",
    "                                    [390, 393, 401, 410, 415, 420, 430, 440, 451, 459],\n",
    "                                    labels=['icd9_8.' + str(i+1) for i in range(9)], \n",
    "                                    include_lowest=True).astype(str).replace('nan', np.NaN).fillna(Diagnosis['ICD9Group'])\n",
    "    ## top 5 frequent ICD9 codes 270–279: Other metabolic and immunity disorders\n",
    "    for i in Diagnosis.loc[Diagnosis['ICD9Group'] == 'icd9_3.4', 'ICD9Num'].value_counts().head(5).index: \n",
    "        Diagnosis.loc[Diagnosis['ICD9Num'] == i, 'ICD9Group'] = 'icd9_3.4_' + str(i)\n",
    "    ## top 5 frequent ICD9 codes 410–414: Ischemic heart disease\n",
    "    for i in Diagnosis.loc[Diagnosis['ICD9Group'] == 'icd9_8.3', 'ICD9Num'].value_counts().head(5).index: \n",
    "        Diagnosis.loc[Diagnosis['ICD9Num'] == i, 'ICD9Group'] = 'icd9_8.3_' + str(i)\n",
    "    df = df.merge(pd.crosstab(index=Diagnosis['PatientGuid'], columns=Diagnosis['ICD9Group']), on='PatientGuid', how='left')\n",
    "    \n",
    "    # join with SyncMedication\n",
    "    ## nMedication: number of Medication\n",
    "    Medication = pd.read_csv('SyncMedication.csv')\n",
    "    df = df.merge(Medication.groupby(by='PatientGuid').size().to_frame('nMedication'), on='PatientGuid', how='left')\n",
    "    ## nMedicationMN (number of top 5 frequent MedicationName)\n",
    "    MedicationMN = list(Medication['MedicationName'].value_counts()[:5].index)\n",
    "    for i in MedicationMN:\n",
    "        n = Medication[Medication['MedicationName'] == i].groupby(by='PatientGuid').size()\n",
    "        df = df.merge(n.to_frame('nMedicationMN'+str(MedicationMN.index(i))), on='PatientGuid', how='left')\n",
    "    ## Med_Diag: medication prescribed based on ICD9\n",
    "    Med_Diag = pd.merge(Medication, Diagnosis, on=['PatientGuid', 'DiagnosisGuid'])\n",
    "    Med_Diag_ct = pd.crosstab(index=Med_Diag['PatientGuid'], columns=Med_Diag['ICD9Group'])\n",
    "    Med_Diag_ct.columns = ['med_'+i for i in Med_Diag_ct.columns]\n",
    "    df = df.merge(Med_Diag_ct, on='PatientGuid', how='left')\n",
    "    \n",
    "    df = df.fillna(0)\n",
    "    return(df)"
   ]
  },
  {
   "cell_type": "markdown",
   "metadata": {},
   "source": [
    "## Load Data"
   ]
  },
  {
   "cell_type": "code",
   "execution_count": 2,
   "metadata": {},
   "outputs": [],
   "source": [
    "from sklearn.model_selection import train_test_split\n",
    "Patient = pd.read_csv('SyncPatient.csv')\n",
    "Patient = select(Patient).drop(['PatientGuid'], axis=1)\n",
    "X = Patient.drop(['DMIndicator'], axis=1)\n",
    "y = Patient['DMIndicator']\n",
    "X_train, X_test, y_train, y_test = train_test_split(X, y, test_size=.2)\n",
    "X_train, X_val, y_train, y_val = train_test_split(X_train, y_train, test_size=.1)"
   ]
  },
  {
   "cell_type": "markdown",
   "metadata": {},
   "source": [
    "## Evaluate Model Performance with [Brier Score](https://en.wikipedia.org/wiki/Brier_score)"
   ]
  },
  {
   "cell_type": "code",
   "execution_count": 3,
   "metadata": {},
   "outputs": [],
   "source": [
    "from sklearn.metrics import brier_score_loss\n",
    "def brier_score(model): \n",
    "    print(model.__class__.__name__, \n",
    "          'brier score: %.3f' %brier_score_loss(y_val, model.predict_proba(X_val)[:, 1]))"
   ]
  },
  {
   "cell_type": "markdown",
   "metadata": {},
   "source": [
    "## Random Forest"
   ]
  },
  {
   "cell_type": "code",
   "execution_count": 4,
   "metadata": {},
   "outputs": [],
   "source": [
    "from sklearn.model_selection import GridSearchCV\n",
    "def grid_search(model, params):\n",
    "    grid_search = GridSearchCV(model, params, cv=3, scoring='neg_brier_score')\n",
    "    grid_search.fit(X_train, y_train)\n",
    "    return grid_search.best_estimator_"
   ]
  },
  {
   "cell_type": "code",
   "execution_count": 5,
   "metadata": {},
   "outputs": [
    {
     "name": "stdout",
     "output_type": "stream",
     "text": [
      "RandomForestClassifier brier score: 0.124\n"
     ]
    }
   ],
   "source": [
    "from sklearn.ensemble import RandomForestClassifier\n",
    "rf = grid_search(RandomForestClassifier(),\n",
    "                      {'n_estimators': [1000, 2000, 4000], 'min_samples_split': np.linspace(.1, .5, 5)})\n",
    "brier_score(rf)"
   ]
  },
  {
   "cell_type": "markdown",
   "metadata": {},
   "source": [
    "## Gradient Boosting"
   ]
  },
  {
   "cell_type": "code",
   "execution_count": 6,
   "metadata": {},
   "outputs": [
    {
     "name": "stdout",
     "output_type": "stream",
     "text": [
      "GradientBoostingClassifier brier score: 0.112\n"
     ]
    }
   ],
   "source": [
    "# early stopping (or use staged_predict)\n",
    "from sklearn.ensemble import GradientBoostingClassifier\n",
    "gb = GradientBoostingClassifier(warm_start=True)\n",
    "min_score = np.inf\n",
    "score_increase = 0\n",
    "for i in range(1,100):\n",
    "    gb.n_estimators = i\n",
    "    gb.fit(X_train, y_train)\n",
    "    score = brier_score_loss(y_train, gb.predict_proba(X_train)[:,1])\n",
    "    if score < min_score:\n",
    "        min_score = score\n",
    "        score_increase = 0\n",
    "    else:\n",
    "        score_increase += 1\n",
    "        if score_increase == 5: break\n",
    "brier_score(gb)"
   ]
  },
  {
   "cell_type": "markdown",
   "metadata": {},
   "source": [
    "## Soft Voting"
   ]
  },
  {
   "cell_type": "code",
   "execution_count": 7,
   "metadata": {},
   "outputs": [
    {
     "name": "stdout",
     "output_type": "stream",
     "text": [
      "VotingClassifier brier score: 0.115\n"
     ]
    }
   ],
   "source": [
    "from sklearn.ensemble import VotingClassifier\n",
    "clf = VotingClassifier(estimators=[('random forest', rf), ('gradient boosting',gb)], \n",
    "                       voting='soft')\n",
    "clf.fit(X_train, y_train)\n",
    "brier_score(clf)"
   ]
  }
 ],
 "metadata": {
  "kernelspec": {
   "display_name": "Python 3",
   "language": "python",
   "name": "python3"
  },
  "language_info": {
   "codemirror_mode": {
    "name": "ipython",
    "version": 3
   },
   "file_extension": ".py",
   "mimetype": "text/x-python",
   "name": "python",
   "nbconvert_exporter": "python",
   "pygments_lexer": "ipython3",
   "version": "3.8.3"
  }
 },
 "nbformat": 4,
 "nbformat_minor": 4
}
